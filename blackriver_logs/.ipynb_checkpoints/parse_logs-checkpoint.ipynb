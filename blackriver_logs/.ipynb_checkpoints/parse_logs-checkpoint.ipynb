{
 "cells": [
  {
   "cell_type": "code",
   "execution_count": 1,
   "metadata": {
    "collapsed": true
   },
   "outputs": [],
   "source": [
    "from scipy.io import loadmat\n",
    "from matplotlib import pyplot as plt\n",
    "import numpy as np\n",
    "%matplotlib inline"
   ]
  },
  {
   "cell_type": "code",
   "execution_count": 52,
   "metadata": {
    "collapsed": true
   },
   "outputs": [],
   "source": [
    "def format_data(mat_data):\n",
    "    \"\"\"\n",
    "    reformats matlab output into X, y, depth data where X is the log values, \n",
    "    y are the labels, and depth is the depth location.\n",
    "    \n",
    "    X: List of logs\n",
    "    y: List of labels\n",
    "    depth: List of depth profiles\n",
    "    \"\"\"\n",
    "    dic = loadmat(mat_data)\n",
    "    \n",
    "    mat_struct = dic['data'].flatten()\n",
    "    X = []\n",
    "    depth = []\n",
    "    y = []\n",
    "    \n",
    "    for curve in data:\n",
    "        \n",
    "        X.append(curve[1].flatten())\n",
    "        depth.append(curve[2].flatten())\n",
    "        \n",
    "        y_unstruct = curve[0].flatten()\n",
    "        y.append(np.array([i[0] for i in y_unstruct]))\n",
    "    \n",
    "    return X, y, depth\n",
    "    "
   ]
  },
  {
   "cell_type": "code",
   "execution_count": 53,
   "metadata": {
    "collapsed": false
   },
   "outputs": [],
   "source": [
    "X, y, depth = format_data('test.mat')"
   ]
  },
  {
   "cell_type": "code",
   "execution_count": 55,
   "metadata": {
    "collapsed": false
   },
   "outputs": [
    {
     "name": "stdout",
     "output_type": "stream",
     "text": [
      "(100.5, u'NA')\n",
      "(150.5, u'NA')\n",
      "(200.5, u'NA')\n",
      "(250.5, u'NA')\n",
      "(300.5, u'NA')\n",
      "(350.5, u'NA')\n",
      "(400.5, u'NA')\n",
      "(450.5, u'NA')\n",
      "(500.5, u'NA')\n",
      "(550.5, u'NA')\n",
      "(600.5, u'NA')\n",
      "(650.5, u'NA')\n",
      "(700.5, u'NA')\n",
      "(750.5, u'NA')\n",
      "(800.5, u'NA')\n",
      "(850.5, u'NA')\n",
      "(900.5, u'NA')\n",
      "(950.5, u'NA')\n",
      "(1000.5, u'NA')\n",
      "(1050.5, u'NA')\n",
      "(1100.5, u'NA')\n",
      "(1150.5, u'NA')\n",
      "(1200.5, u'NA')\n",
      "(1250.5, u'NA')\n",
      "(1300.5, u'NA')\n",
      "(1350.5, u'NA')\n",
      "(1400.5, u'NA')\n",
      "(1450.5, u'NA')\n",
      "(1500.5, u'NA')\n",
      "(1550.5, u'NA')\n",
      "(1600.5, u'NA')\n",
      "(1650.5, u'NA')\n",
      "(1700.5, u'NA')\n",
      "(1750.5, u'NA')\n",
      "(1800.5, u'NA')\n",
      "(1850.5, u'NA')\n",
      "(1900.5, u'NA')\n",
      "(1950.5, u'NA')\n",
      "(2000.5, u'NA')\n",
      "(2050.5, u'NA')\n",
      "(2100.5, u'NA')\n",
      "(2150.5, u'NA')\n",
      "(2200.5, u'NA')\n",
      "(2250.5, u'NA')\n",
      "(2300.5, u'NA')\n",
      "(2350.5, u'NA')\n",
      "(2400.5, u'Ordovician')\n",
      "(2450.5, u'Ordovician')\n",
      "(2500.5, u'Ordovician')\n",
      "(2550.5, u'Ordovician')\n",
      "(2600.5, u'Ordovician')\n",
      "(2650.5, u'Ordovician')\n",
      "(2700.5, u'Ordovician')\n",
      "(2750.5, u'Utica')\n",
      "(2800.5, u'Utica')\n",
      "(2850.5, u'Utica')\n",
      "(2900.5, u'Utica')\n",
      "(2950.5, u'Utica')\n",
      "(3000.5, u'Utica')\n",
      "(3050.5, u'TL')\n",
      "(3100.5, u'TL')\n",
      "(3150.5, u'TL')\n",
      "(3200.5, u'TL')\n",
      "(3250.5, u'BlackRiver')\n",
      "(3300.5, u'BlackRiver')\n",
      "(3350.5, u'BlackRiver')\n",
      "(3400.5, u'BlackRiver')\n",
      "(3450.5, u'BlackRiver')\n",
      "(3500.5, u'BlackRiver')\n",
      "(3550.5, u'BlackRiver')\n",
      "(3600.5, u'NA')\n",
      "(3650.5, u'NA')\n",
      "(3700.5, u'NA')\n",
      "(3750.5, u'NA')\n",
      "(3800.5, u'NA')\n",
      "(3850.5, u'NA')\n",
      "(3900.5, u'NA')\n",
      "(3950.5, u'NA')\n",
      "(4000.5, u'NA')\n",
      "(4050.5, u'NA')\n",
      "(4100.5, u'NA')\n",
      "(4150.5, u'NA')\n",
      "(4200.5, u'NA')\n",
      "(4250.5, u'NA')\n",
      "(4300.5, u'NA')\n",
      "(4350.5, u'NA')\n",
      "(4400.5, u'NA')\n",
      "(4450.5, u'NA')\n",
      "(4500.5, u'NA')\n",
      "(4550.5, u'NA')\n",
      "(4600.5, u'NA')\n",
      "(4650.5, u'NA')\n",
      "(4700.5, u'NA')\n",
      "(4750.5, u'NA')\n",
      "(4800.5, u'NA')\n",
      "(4850.5, u'NA')\n",
      "(4900.5, u'NA')\n",
      "(4950.5, u'NA')\n",
      "(5000.5, u'NA')\n",
      "(5050.5, u'NA')\n",
      "(5100.5, u'NA')\n",
      "(5150.5, u'NA')\n",
      "(5200.5, u'NA')\n",
      "(5250.5, u'NA')\n",
      "(5300.5, u'NA')\n",
      "(5350.5, u'NA')\n",
      "(5400.5, u'NA')\n"
     ]
    }
   ],
   "source": []
  },
  {
   "cell_type": "code",
   "execution_count": 33,
   "metadata": {
    "collapsed": false
   },
   "outputs": [
    {
     "data": {
      "text/plain": [
       "[<matplotlib.lines.Line2D at 0x1174f99d0>]"
      ]
     },
     "execution_count": 33,
     "metadata": {},
     "output_type": "execute_result"
    },
    {
     "data": {
      "image/png": "[encoded data removed]",
      "text/plain": [
       "<matplotlib.figure.Figure at 0x1172a35d0>"
      ]
     },
     "metadata": {},
     "output_type": "display_data"
    }
   ],
   "source": []
  },
  {
   "cell_type": "code",
   "execution_count": null,
   "metadata": {
    "collapsed": true
   },
   "outputs": [],
   "source": []
  }
 ],
 "metadata": {
  "kernelspec": {
   "display_name": "Python 2",
   "language": "python",
   "name": "python2"
  },
  "language_info": {
   "codemirror_mode": {
    "name": "ipython",
    "version": 2
   },
   "file_extension": ".py",
   "mimetype": "text/x-python",
   "name": "python",
   "nbconvert_exporter": "python",
   "pygments_lexer": "ipython2",
   "version": "2.7.10"
  }
 },
 "nbformat": 4,
 "nbformat_minor": 0
}
