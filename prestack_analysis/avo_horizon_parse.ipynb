{
 "cells": [
  {
   "cell_type": "code",
   "execution_count": 1,
   "metadata": {
    "collapsed": false
   },
   "outputs": [],
   "source": [
    "import csv\n",
    "import numpy as np\n",
    "from matplotlib import pyplot as plt\n",
    "from scipy.io import savemat\n",
    "import os\n",
    "import fnmatch\n",
    "from time import sleep\n",
    "\n",
    "from sklearn.cross_validation import train_test_split\n",
    "from sklearn.neighbors import KNeighborsClassifier as KNN\n",
    "\n",
    "%matplotlib inline"
   ]
  },
  {
   "cell_type": "code",
   "execution_count": 2,
   "metadata": {
    "collapsed": false
   },
   "outputs": [],
   "source": [
    "def parse_horizon(infile):\n",
    "    ils, xls, values = ([],[],[])\n",
    "    with open(infile, 'r') as f:\n",
    "        reader=csv.reader(f, delimiter='\\t')\n",
    "        for il, xl,z, zero, five, ten, ft, twen, tf, t, tf in reader:\n",
    "            ils.append(int(il)-1)\n",
    "            xls.append(int(xl)-1)\n",
    "            point = [float(i) for i in[zero, five, ten, ft, twen, tf, t, tf]]\n",
    "            values.append(point)\n",
    "    \n",
    "    value_array = np.array(values)\n",
    "    inlines = np.array(ils)\n",
    "    xlines = np.array(xls)\n",
    "    horizons = np.zeros((np.amax(inlines)-np.amin(inlines) +1, \n",
    "                         np.amax(xlines) - np.amin(xlines)+1, value_array.shape[1]))\n",
    "    horizons[inlines-np.amin(inlines), xlines - np.amin(xlines), :] += values\n",
    "    \n",
    "    return horizons\n",
    "def horizon_norm(horizon):\n",
    "    normed = np.nan_to_num(horizon / np.sum(np.abs(horizon), 2)[:,:, np.newaxis])\n",
    "    normed = normed.reshape(normed.shape[0]*normed.shape[1], normed.shape[2])\n",
    "    \n",
    "    normed = normed[np.sum(normed,1) > 0]\n",
    "    \n",
    "    return normed\n",
    "def norm_avg(horizon):\n",
    "    norm = np.nan_to_num(horizon / np.sum(np.abs(horizon), 2)[:,:, np.newaxis])\n",
    "    curve = np.mean(np.mean(norm, 0),0)\n",
    "    \n",
    "    return curve"
   ]
  },
  {
   "cell_type": "code",
   "execution_count": 3,
   "metadata": {
    "collapsed": false
   },
   "outputs": [
    {
     "name": "stderr",
     "output_type": "stream",
     "text": [
      "/Volumes/Users/bbougher/anaconda/lib/python2.7/site-packages/IPython/kernel/__main__.py:20: RuntimeWarning: invalid value encountered in divide\n"
     ]
    }
   ],
   "source": [
    "horizonB = horizon_norm(parse_horizon('AVO_horizonB.hor'))\n",
    "labelsB = np.zeros(horizonB.shape[0])\n",
    "horizonC = horizon_norm(parse_horizon('AVO_horizonC.hor'))\n",
    "labelsC = np.ones(horizonC.shape[0])\n",
    "horizonD = horizon_norm(parse_horizon('AVO_horizonD.hor'))\n",
    "labelsD = np.ones(horizonD.shape[0])*2"
   ]
  },
  {
   "cell_type": "code",
   "execution_count": 4,
   "metadata": {
    "collapsed": false
   },
   "outputs": [
    {
     "data": {
      "text/plain": [
       "[<matplotlib.lines.Line2D at 0x107bbb1d0>]"
      ]
     },
     "execution_count": 4,
     "metadata": {},
     "output_type": "execute_result"
    },
    {
     "data": {
      "image/png": "[encoded data removed]",
      "text/plain": [
       "<matplotlib.figure.Figure at 0x107bbbdd0>"
      ]
     },
     "metadata": {},
     "output_type": "display_data"
    }
   ],
   "source": [
    "hor = horizonB.T\n",
    "plt.plot(np.mean(horizonB,0))\n",
    "plt.plot(np.mean(horizonC,0))\n",
    "plt.plot(np.mean(horizonD,0))"
   ]
  },
  {
   "cell_type": "code",
   "execution_count": 5,
   "metadata": {
    "collapsed": false
   },
   "outputs": [],
   "source": [
    "allX = np.vstack([horizonB, horizonC, horizonD])\n",
    "ally = np.hstack([labelsB, labelsC, labelsD])"
   ]
  },
  {
   "cell_type": "code",
   "execution_count": 6,
   "metadata": {
    "collapsed": false
   },
   "outputs": [
    {
     "data": {
      "text/plain": [
       "(612977, 8)"
      ]
     },
     "execution_count": 6,
     "metadata": {},
     "output_type": "execute_result"
    }
   ],
   "source": [
    "allX.shape\n"
   ]
  },
  {
   "cell_type": "code",
   "execution_count": 7,
   "metadata": {
    "collapsed": false
   },
   "outputs": [],
   "source": [
    "Xtrain, Xtest, ytrain, ytest = train_test_split(allX, ally, test_size=0.33, random_state=42)"
   ]
  },
  {
   "cell_type": "code",
   "execution_count": null,
   "metadata": {
    "collapsed": false
   },
   "outputs": [
    {
     "data": {
      "text/plain": [
       "KNeighborsClassifier(algorithm='auto', leaf_size=30, metric='minkowski',\n",
       "           metric_params=None, n_neighbors=50, p=2, weights='uniform')"
      ]
     },
     "execution_count": 8,
     "metadata": {},
     "output_type": "execute_result"
    }
   ],
   "source": [
    "clf = KNN(50)\n",
    "clf.fit(Xtrain, ytrain)"
   ]
  },
  {
   "cell_type": "code",
   "execution_count": null,
   "metadata": {
    "collapsed": false
   },
   "outputs": [],
   "source": [
    "yhat = clf.predict(Xtest)"
   ]
  },
  {
   "cell_type": "code",
   "execution_count": null,
   "metadata": {
    "collapsed": false
   },
   "outputs": [],
   "source": [
    "print np.sum(yhat==ytest) / float(yhat.size)\n",
    "plt.plot(np.mean(horizonB,0))\n",
    "plt.plot(np.mean(horizonC,0))\n",
    "plt.plot(np.mean(horizonD,0))\n",
    "plt.ylim([-.5,.5])\n",
    "plt.show()"
   ]
  },
  {
   "cell_type": "code",
   "execution_count": null,
   "metadata": {
    "collapsed": false
   },
   "outputs": [],
   "source": [
    "for i,j in zip(yhat[::100], ytest[::100]):\n",
    "    print i,j\n"
   ]
  },
  {
   "cell_type": "code",
   "execution_count": 11,
   "metadata": {
    "collapsed": false
   },
   "outputs": [],
   "source": [
    "for i in range(0,norm.shape[0],40):\n",
    "    if (np.sum(norm[i,:]) > 0) and (norm[i,0] != 0):\n",
    "        plt.plot(norm[i,:])\n",
    "    \n",
    "        plt.plot(curve)\n",
    "        plt.ylim([-.5,.5])\n",
    "        plt.show()\n",
    "    "
   ]
  },
  {
   "cell_type": "code",
   "execution_count": null,
   "metadata": {
    "collapsed": true
   },
   "outputs": [],
   "source": []
  },
  {
   "cell_type": "code",
   "execution_count": null,
   "metadata": {
    "collapsed": true
   },
   "outputs": [],
   "source": []
  }
 ],
 "metadata": {
  "kernelspec": {
   "display_name": "Python 2",
   "language": "python",
   "name": "python2"
  },
  "language_info": {
   "codemirror_mode": {
    "name": "ipython",
    "version": 2
   },
   "file_extension": ".py",
   "mimetype": "text/x-python",
   "name": "python",
   "nbconvert_exporter": "python",
   "pygments_lexer": "ipython2",
   "version": "2.7.10"
  }
 },
 "nbformat": 4,
 "nbformat_minor": 0
}
